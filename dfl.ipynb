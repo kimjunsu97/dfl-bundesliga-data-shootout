{
 "cells": [
  {
   "cell_type": "code",
   "execution_count": 1,
   "metadata": {
    "collapsed": true,
    "execution": {
     "iopub.execute_input": "2022-08-30T04:41:45.676837Z",
     "iopub.status.busy": "2022-08-30T04:41:45.676336Z",
     "iopub.status.idle": "2022-08-30T04:42:00.433413Z",
     "shell.execute_reply": "2022-08-30T04:42:00.432130Z",
     "shell.execute_reply.started": "2022-08-30T04:41:45.676798Z"
    },
    "jupyter": {
     "outputs_hidden": true
    },
    "tags": []
   },
   "outputs": [
    {
     "name": "stdout",
     "output_type": "stream",
     "text": [
      "Collecting SoccerNet\n",
      "  Downloading SoccerNet-0.1.34-py2.py3-none-any.whl (68 kB)\n",
      "Collecting google-measurement-protocol\n",
      "  Downloading google_measurement_protocol-1.1.0-py2.py3-none-any.whl (5.9 kB)\n",
      "Requirement already satisfied: tqdm in c:\\users\\kimju\\anaconda3\\envs\\dfl\\lib\\site-packages (from SoccerNet) (4.64.0)\n",
      "Collecting scikit-video\n",
      "  Downloading scikit_video-1.1.11-py2.py3-none-any.whl (2.3 MB)\n",
      "Requirement already satisfied: matplotlib in c:\\users\\kimju\\anaconda3\\envs\\dfl\\lib\\site-packages (from SoccerNet) (3.5.1)\n",
      "Requirement already satisfied: requests<3.0a0,>=2.0 in c:\\users\\kimju\\anaconda3\\envs\\dfl\\lib\\site-packages (from google-measurement-protocol->SoccerNet) (2.27.1)\n",
      "Collecting prices>=1.0.0\n",
      "  Downloading prices-1.1.0-py2.py3-none-any.whl (8.8 kB)\n",
      "Requirement already satisfied: babel>=2.5.0 in c:\\users\\kimju\\anaconda3\\envs\\dfl\\lib\\site-packages (from prices>=1.0.0->google-measurement-protocol->SoccerNet) (2.9.1)\n",
      "Requirement already satisfied: pytz>=2015.7 in c:\\users\\kimju\\anaconda3\\envs\\dfl\\lib\\site-packages (from babel>=2.5.0->prices>=1.0.0->google-measurement-protocol->SoccerNet) (2021.3)\n",
      "Requirement already satisfied: certifi>=2017.4.17 in c:\\users\\kimju\\anaconda3\\envs\\dfl\\lib\\site-packages (from requests<3.0a0,>=2.0->google-measurement-protocol->SoccerNet) (2021.10.8)\n",
      "Requirement already satisfied: urllib3<1.27,>=1.21.1 in c:\\users\\kimju\\anaconda3\\envs\\dfl\\lib\\site-packages (from requests<3.0a0,>=2.0->google-measurement-protocol->SoccerNet) (1.26.9)\n",
      "Requirement already satisfied: idna<4,>=2.5 in c:\\users\\kimju\\anaconda3\\envs\\dfl\\lib\\site-packages (from requests<3.0a0,>=2.0->google-measurement-protocol->SoccerNet) (3.3)\n",
      "Requirement already satisfied: charset-normalizer~=2.0.0 in c:\\users\\kimju\\anaconda3\\envs\\dfl\\lib\\site-packages (from requests<3.0a0,>=2.0->google-measurement-protocol->SoccerNet) (2.0.4)\n",
      "Requirement already satisfied: numpy>=1.17 in c:\\users\\kimju\\anaconda3\\envs\\dfl\\lib\\site-packages (from matplotlib->SoccerNet) (1.21.5)\n",
      "Requirement already satisfied: cycler>=0.10 in c:\\users\\kimju\\anaconda3\\envs\\dfl\\lib\\site-packages (from matplotlib->SoccerNet) (0.11.0)\n",
      "Requirement already satisfied: fonttools>=4.22.0 in c:\\users\\kimju\\anaconda3\\envs\\dfl\\lib\\site-packages (from matplotlib->SoccerNet) (4.25.0)\n",
      "Requirement already satisfied: kiwisolver>=1.0.1 in c:\\users\\kimju\\anaconda3\\envs\\dfl\\lib\\site-packages (from matplotlib->SoccerNet) (1.3.2)\n",
      "Requirement already satisfied: packaging>=20.0 in c:\\users\\kimju\\appdata\\roaming\\python\\python38\\site-packages (from matplotlib->SoccerNet) (21.3)\n",
      "Requirement already satisfied: python-dateutil>=2.7 in c:\\users\\kimju\\appdata\\roaming\\python\\python38\\site-packages (from matplotlib->SoccerNet) (2.8.2)\n",
      "Requirement already satisfied: pillow>=6.2.0 in c:\\users\\kimju\\anaconda3\\envs\\dfl\\lib\\site-packages (from matplotlib->SoccerNet) (9.0.1)\n",
      "Requirement already satisfied: pyparsing>=2.2.1 in c:\\users\\kimju\\appdata\\roaming\\python\\python38\\site-packages (from matplotlib->SoccerNet) (3.0.9)\n",
      "Requirement already satisfied: six>=1.5 in c:\\users\\kimju\\appdata\\roaming\\python\\python38\\site-packages (from python-dateutil>=2.7->matplotlib->SoccerNet) (1.16.0)\n",
      "Requirement already satisfied: scipy in c:\\users\\kimju\\anaconda3\\envs\\dfl\\lib\\site-packages (from scikit-video->SoccerNet) (1.7.3)\n",
      "Requirement already satisfied: colorama in c:\\users\\kimju\\appdata\\roaming\\python\\python38\\site-packages (from tqdm->SoccerNet) (0.4.5)\n",
      "Installing collected packages: prices, scikit-video, google-measurement-protocol, SoccerNet\n",
      "Successfully installed SoccerNet-0.1.34 google-measurement-protocol-1.1.0 prices-1.1.0 scikit-video-1.1.11\n"
     ]
    }
   ],
   "source": [
    "!pip install SoccerNet"
   ]
  },
  {
   "cell_type": "code",
   "execution_count": 1,
   "metadata": {},
   "outputs": [
    {
     "name": "stdout",
     "output_type": "stream",
     "text": [
      "D:\\dfl-bundesliga-data-shootout\n"
     ]
    }
   ],
   "source": [
    "import os\n",
    "print(os.getcwd())"
   ]
  },
  {
   "cell_type": "code",
   "execution_count": 2,
   "metadata": {},
   "outputs": [
    {
     "name": "stdout",
     "output_type": "stream",
     "text": [
      "D:\\dfl-bundesliga-data-shootout\n"
     ]
    }
   ],
   "source": [
    "os.chdir('D:/dfl-bundesliga-data-shootout')\n",
    "print(os.getcwd())"
   ]
  },
  {
   "cell_type": "code",
   "execution_count": 3,
   "metadata": {
    "tags": []
   },
   "outputs": [],
   "source": [
    "import SoccerNet\n",
    "from SoccerNet.Downloader import SoccerNetDownloader"
   ]
  },
  {
   "cell_type": "code",
   "execution_count": 4,
   "metadata": {
    "tags": []
   },
   "outputs": [
    {
     "name": "stdout",
     "output_type": "stream",
     "text": [
      "D:/dfl-bundesliga-data-shootout/yolov7\n",
      "D:/dfl-bundesliga-data-shootout/soccerNet/tracking\n"
     ]
    }
   ],
   "source": [
    "dfl_base = 'D:\\dfl-bundesliga-data-shootout'\n",
    "yolo_base = os.path.join(dfl_base,'yolov7')\n",
    "yolo_base = yolo_base.replace('\\\\','/')\n",
    "sn_track_base = os.path.join(dfl_base,'soccerNet/tracking')\n",
    "sn_track_base = sn_track_base.replace('\\\\','/')\n",
    "print(yolo_base)\n",
    "print(sn_track_base)"
   ]
  },
  {
   "cell_type": "code",
   "execution_count": 128,
   "metadata": {
    "collapsed": true,
    "jupyter": {
     "outputs_hidden": true
    },
    "tags": []
   },
   "outputs": [
    {
     "name": "stderr",
     "output_type": "stream",
     "text": [
      "명령 구문이 올바르지 않습니다.\n",
      "명령 구문이 올바르지 않습니다.\n"
     ]
    },
    {
     "name": "stdout",
     "output_type": "stream",
     "text": [
      "D:/dfl-bundesliga-data-shootout/soccerNet/tracking/test.zip\n",
      "D:/dfl-bundesliga-data-shootout/soccerNet/tracking/challenge.zip\n"
     ]
    },
    {
     "ename": "FileNotFoundError",
     "evalue": "[WinError 2] 지정된 파일을 찾을 수 없습니다: '/soccerNet/tracking\\\\tracking\\\\train.zip'",
     "output_type": "error",
     "traceback": [
      "\u001b[1;31m---------------------------------------------------------------------------\u001b[0m",
      "\u001b[1;31mKeyboardInterrupt\u001b[0m                         Traceback (most recent call last)",
      "File \u001b[1;32m~\\anaconda3\\envs\\dfl\\lib\\site-packages\\SoccerNet\\Downloader.py:67\u001b[0m, in \u001b[0;36mOwnCloudDownloader.downloadFile\u001b[1;34m(self, path_local, path_owncloud, user, password, verbose)\u001b[0m\n\u001b[0;32m     66\u001b[0m     os\u001b[38;5;241m.\u001b[39mmakedirs(os\u001b[38;5;241m.\u001b[39mpath\u001b[38;5;241m.\u001b[39mdirname(path_local), exist_ok\u001b[38;5;241m=\u001b[39m\u001b[38;5;28;01mTrue\u001b[39;00m)\n\u001b[1;32m---> 67\u001b[0m     \u001b[43murllib\u001b[49m\u001b[38;5;241;43m.\u001b[39;49m\u001b[43mrequest\u001b[49m\u001b[38;5;241;43m.\u001b[39;49m\u001b[43murlretrieve\u001b[49m\u001b[43m(\u001b[49m\n\u001b[0;32m     68\u001b[0m \u001b[43m        \u001b[49m\u001b[43mpath_owncloud\u001b[49m\u001b[43m,\u001b[49m\u001b[43m \u001b[49m\u001b[43mpath_local\u001b[49m\u001b[43m,\u001b[49m\u001b[43m \u001b[49m\u001b[43mMyProgressBar\u001b[49m\u001b[43m(\u001b[49m\u001b[43mpath_local\u001b[49m\u001b[43m)\u001b[49m\u001b[43m)\u001b[49m\n\u001b[0;32m     70\u001b[0m \u001b[38;5;28;01mexcept\u001b[39;00m urllib\u001b[38;5;241m.\u001b[39merror\u001b[38;5;241m.\u001b[39mHTTPError \u001b[38;5;28;01mas\u001b[39;00m identifier:\n",
      "File \u001b[1;32m~\\anaconda3\\envs\\dfl\\lib\\urllib\\request.py:247\u001b[0m, in \u001b[0;36murlretrieve\u001b[1;34m(url, filename, reporthook, data)\u001b[0m\n\u001b[0;32m    245\u001b[0m url_type, path \u001b[38;5;241m=\u001b[39m _splittype(url)\n\u001b[1;32m--> 247\u001b[0m \u001b[38;5;28;01mwith\u001b[39;00m contextlib\u001b[38;5;241m.\u001b[39mclosing(\u001b[43murlopen\u001b[49m\u001b[43m(\u001b[49m\u001b[43murl\u001b[49m\u001b[43m,\u001b[49m\u001b[43m \u001b[49m\u001b[43mdata\u001b[49m\u001b[43m)\u001b[49m) \u001b[38;5;28;01mas\u001b[39;00m fp:\n\u001b[0;32m    248\u001b[0m     headers \u001b[38;5;241m=\u001b[39m fp\u001b[38;5;241m.\u001b[39minfo()\n",
      "File \u001b[1;32m~\\anaconda3\\envs\\dfl\\lib\\urllib\\request.py:222\u001b[0m, in \u001b[0;36murlopen\u001b[1;34m(url, data, timeout, cafile, capath, cadefault, context)\u001b[0m\n\u001b[0;32m    221\u001b[0m     opener \u001b[38;5;241m=\u001b[39m _opener\n\u001b[1;32m--> 222\u001b[0m \u001b[38;5;28;01mreturn\u001b[39;00m \u001b[43mopener\u001b[49m\u001b[38;5;241;43m.\u001b[39;49m\u001b[43mopen\u001b[49m\u001b[43m(\u001b[49m\u001b[43murl\u001b[49m\u001b[43m,\u001b[49m\u001b[43m \u001b[49m\u001b[43mdata\u001b[49m\u001b[43m,\u001b[49m\u001b[43m \u001b[49m\u001b[43mtimeout\u001b[49m\u001b[43m)\u001b[49m\n",
      "File \u001b[1;32m~\\anaconda3\\envs\\dfl\\lib\\urllib\\request.py:531\u001b[0m, in \u001b[0;36mOpenerDirector.open\u001b[1;34m(self, fullurl, data, timeout)\u001b[0m\n\u001b[0;32m    530\u001b[0m     meth \u001b[38;5;241m=\u001b[39m \u001b[38;5;28mgetattr\u001b[39m(processor, meth_name)\n\u001b[1;32m--> 531\u001b[0m     response \u001b[38;5;241m=\u001b[39m \u001b[43mmeth\u001b[49m\u001b[43m(\u001b[49m\u001b[43mreq\u001b[49m\u001b[43m,\u001b[49m\u001b[43m \u001b[49m\u001b[43mresponse\u001b[49m\u001b[43m)\u001b[49m\n\u001b[0;32m    533\u001b[0m \u001b[38;5;28;01mreturn\u001b[39;00m response\n",
      "File \u001b[1;32m~\\anaconda3\\envs\\dfl\\lib\\urllib\\request.py:640\u001b[0m, in \u001b[0;36mHTTPErrorProcessor.http_response\u001b[1;34m(self, request, response)\u001b[0m\n\u001b[0;32m    639\u001b[0m \u001b[38;5;28;01mif\u001b[39;00m \u001b[38;5;129;01mnot\u001b[39;00m (\u001b[38;5;241m200\u001b[39m \u001b[38;5;241m<\u001b[39m\u001b[38;5;241m=\u001b[39m code \u001b[38;5;241m<\u001b[39m \u001b[38;5;241m300\u001b[39m):\n\u001b[1;32m--> 640\u001b[0m     response \u001b[38;5;241m=\u001b[39m \u001b[38;5;28;43mself\u001b[39;49m\u001b[38;5;241;43m.\u001b[39;49m\u001b[43mparent\u001b[49m\u001b[38;5;241;43m.\u001b[39;49m\u001b[43merror\u001b[49m\u001b[43m(\u001b[49m\n\u001b[0;32m    641\u001b[0m \u001b[43m        \u001b[49m\u001b[38;5;124;43m'\u001b[39;49m\u001b[38;5;124;43mhttp\u001b[39;49m\u001b[38;5;124;43m'\u001b[39;49m\u001b[43m,\u001b[49m\u001b[43m \u001b[49m\u001b[43mrequest\u001b[49m\u001b[43m,\u001b[49m\u001b[43m \u001b[49m\u001b[43mresponse\u001b[49m\u001b[43m,\u001b[49m\u001b[43m \u001b[49m\u001b[43mcode\u001b[49m\u001b[43m,\u001b[49m\u001b[43m \u001b[49m\u001b[43mmsg\u001b[49m\u001b[43m,\u001b[49m\u001b[43m \u001b[49m\u001b[43mhdrs\u001b[49m\u001b[43m)\u001b[49m\n\u001b[0;32m    643\u001b[0m \u001b[38;5;28;01mreturn\u001b[39;00m response\n",
      "File \u001b[1;32m~\\anaconda3\\envs\\dfl\\lib\\urllib\\request.py:563\u001b[0m, in \u001b[0;36mOpenerDirector.error\u001b[1;34m(self, proto, *args)\u001b[0m\n\u001b[0;32m    562\u001b[0m args \u001b[38;5;241m=\u001b[39m (\u001b[38;5;28mdict\u001b[39m, proto, meth_name) \u001b[38;5;241m+\u001b[39m args\n\u001b[1;32m--> 563\u001b[0m result \u001b[38;5;241m=\u001b[39m \u001b[38;5;28;43mself\u001b[39;49m\u001b[38;5;241;43m.\u001b[39;49m\u001b[43m_call_chain\u001b[49m\u001b[43m(\u001b[49m\u001b[38;5;241;43m*\u001b[39;49m\u001b[43margs\u001b[49m\u001b[43m)\u001b[49m\n\u001b[0;32m    564\u001b[0m \u001b[38;5;28;01mif\u001b[39;00m result:\n",
      "File \u001b[1;32m~\\anaconda3\\envs\\dfl\\lib\\urllib\\request.py:502\u001b[0m, in \u001b[0;36mOpenerDirector._call_chain\u001b[1;34m(self, chain, kind, meth_name, *args)\u001b[0m\n\u001b[0;32m    501\u001b[0m func \u001b[38;5;241m=\u001b[39m \u001b[38;5;28mgetattr\u001b[39m(handler, meth_name)\n\u001b[1;32m--> 502\u001b[0m result \u001b[38;5;241m=\u001b[39m \u001b[43mfunc\u001b[49m\u001b[43m(\u001b[49m\u001b[38;5;241;43m*\u001b[39;49m\u001b[43margs\u001b[49m\u001b[43m)\u001b[49m\n\u001b[0;32m    503\u001b[0m \u001b[38;5;28;01mif\u001b[39;00m result \u001b[38;5;129;01mis\u001b[39;00m \u001b[38;5;129;01mnot\u001b[39;00m \u001b[38;5;28;01mNone\u001b[39;00m:\n",
      "File \u001b[1;32m~\\anaconda3\\envs\\dfl\\lib\\urllib\\request.py:1062\u001b[0m, in \u001b[0;36mHTTPBasicAuthHandler.http_error_401\u001b[1;34m(self, req, fp, code, msg, headers)\u001b[0m\n\u001b[0;32m   1061\u001b[0m url \u001b[38;5;241m=\u001b[39m req\u001b[38;5;241m.\u001b[39mfull_url\n\u001b[1;32m-> 1062\u001b[0m response \u001b[38;5;241m=\u001b[39m \u001b[38;5;28;43mself\u001b[39;49m\u001b[38;5;241;43m.\u001b[39;49m\u001b[43mhttp_error_auth_reqed\u001b[49m\u001b[43m(\u001b[49m\u001b[38;5;124;43m'\u001b[39;49m\u001b[38;5;124;43mwww-authenticate\u001b[39;49m\u001b[38;5;124;43m'\u001b[39;49m\u001b[43m,\u001b[49m\n\u001b[0;32m   1063\u001b[0m \u001b[43m                                  \u001b[49m\u001b[43murl\u001b[49m\u001b[43m,\u001b[49m\u001b[43m \u001b[49m\u001b[43mreq\u001b[49m\u001b[43m,\u001b[49m\u001b[43m \u001b[49m\u001b[43mheaders\u001b[49m\u001b[43m)\u001b[49m\n\u001b[0;32m   1064\u001b[0m \u001b[38;5;28;01mreturn\u001b[39;00m response\n",
      "File \u001b[1;32m~\\anaconda3\\envs\\dfl\\lib\\urllib\\request.py:1011\u001b[0m, in \u001b[0;36mAbstractBasicAuthHandler.http_error_auth_reqed\u001b[1;34m(self, authreq, host, req, headers)\u001b[0m\n\u001b[0;32m   1007\u001b[0m         \u001b[38;5;28;01mif\u001b[39;00m realm \u001b[38;5;129;01mis\u001b[39;00m \u001b[38;5;129;01mnot\u001b[39;00m \u001b[38;5;28;01mNone\u001b[39;00m:\n\u001b[0;32m   1008\u001b[0m             \u001b[38;5;66;03m# Use the first matching Basic challenge.\u001b[39;00m\n\u001b[0;32m   1009\u001b[0m             \u001b[38;5;66;03m# Ignore following challenges even if they use the Basic\u001b[39;00m\n\u001b[0;32m   1010\u001b[0m             \u001b[38;5;66;03m# scheme.\u001b[39;00m\n\u001b[1;32m-> 1011\u001b[0m             \u001b[38;5;28;01mreturn\u001b[39;00m \u001b[38;5;28;43mself\u001b[39;49m\u001b[38;5;241;43m.\u001b[39;49m\u001b[43mretry_http_basic_auth\u001b[49m\u001b[43m(\u001b[49m\u001b[43mhost\u001b[49m\u001b[43m,\u001b[49m\u001b[43m \u001b[49m\u001b[43mreq\u001b[49m\u001b[43m,\u001b[49m\u001b[43m \u001b[49m\u001b[43mrealm\u001b[49m\u001b[43m)\u001b[49m\n\u001b[0;32m   1013\u001b[0m \u001b[38;5;28;01mif\u001b[39;00m unsupported \u001b[38;5;129;01mis\u001b[39;00m \u001b[38;5;129;01mnot\u001b[39;00m \u001b[38;5;28;01mNone\u001b[39;00m:\n",
      "File \u001b[1;32m~\\anaconda3\\envs\\dfl\\lib\\urllib\\request.py:1026\u001b[0m, in \u001b[0;36mAbstractBasicAuthHandler.retry_http_basic_auth\u001b[1;34m(self, host, req, realm)\u001b[0m\n\u001b[0;32m   1025\u001b[0m     req\u001b[38;5;241m.\u001b[39madd_unredirected_header(\u001b[38;5;28mself\u001b[39m\u001b[38;5;241m.\u001b[39mauth_header, auth)\n\u001b[1;32m-> 1026\u001b[0m     \u001b[38;5;28;01mreturn\u001b[39;00m \u001b[38;5;28;43mself\u001b[39;49m\u001b[38;5;241;43m.\u001b[39;49m\u001b[43mparent\u001b[49m\u001b[38;5;241;43m.\u001b[39;49m\u001b[43mopen\u001b[49m\u001b[43m(\u001b[49m\u001b[43mreq\u001b[49m\u001b[43m,\u001b[49m\u001b[43m \u001b[49m\u001b[43mtimeout\u001b[49m\u001b[38;5;241;43m=\u001b[39;49m\u001b[43mreq\u001b[49m\u001b[38;5;241;43m.\u001b[39;49m\u001b[43mtimeout\u001b[49m\u001b[43m)\u001b[49m\n\u001b[0;32m   1027\u001b[0m \u001b[38;5;28;01melse\u001b[39;00m:\n",
      "File \u001b[1;32m~\\anaconda3\\envs\\dfl\\lib\\urllib\\request.py:525\u001b[0m, in \u001b[0;36mOpenerDirector.open\u001b[1;34m(self, fullurl, data, timeout)\u001b[0m\n\u001b[0;32m    524\u001b[0m sys\u001b[38;5;241m.\u001b[39maudit(\u001b[38;5;124m'\u001b[39m\u001b[38;5;124murllib.Request\u001b[39m\u001b[38;5;124m'\u001b[39m, req\u001b[38;5;241m.\u001b[39mfull_url, req\u001b[38;5;241m.\u001b[39mdata, req\u001b[38;5;241m.\u001b[39mheaders, req\u001b[38;5;241m.\u001b[39mget_method())\n\u001b[1;32m--> 525\u001b[0m response \u001b[38;5;241m=\u001b[39m \u001b[38;5;28;43mself\u001b[39;49m\u001b[38;5;241;43m.\u001b[39;49m\u001b[43m_open\u001b[49m\u001b[43m(\u001b[49m\u001b[43mreq\u001b[49m\u001b[43m,\u001b[49m\u001b[43m \u001b[49m\u001b[43mdata\u001b[49m\u001b[43m)\u001b[49m\n\u001b[0;32m    527\u001b[0m \u001b[38;5;66;03m# post-process response\u001b[39;00m\n",
      "File \u001b[1;32m~\\anaconda3\\envs\\dfl\\lib\\urllib\\request.py:542\u001b[0m, in \u001b[0;36mOpenerDirector._open\u001b[1;34m(self, req, data)\u001b[0m\n\u001b[0;32m    541\u001b[0m protocol \u001b[38;5;241m=\u001b[39m req\u001b[38;5;241m.\u001b[39mtype\n\u001b[1;32m--> 542\u001b[0m result \u001b[38;5;241m=\u001b[39m \u001b[38;5;28;43mself\u001b[39;49m\u001b[38;5;241;43m.\u001b[39;49m\u001b[43m_call_chain\u001b[49m\u001b[43m(\u001b[49m\u001b[38;5;28;43mself\u001b[39;49m\u001b[38;5;241;43m.\u001b[39;49m\u001b[43mhandle_open\u001b[49m\u001b[43m,\u001b[49m\u001b[43m \u001b[49m\u001b[43mprotocol\u001b[49m\u001b[43m,\u001b[49m\u001b[43m \u001b[49m\u001b[43mprotocol\u001b[49m\u001b[43m \u001b[49m\u001b[38;5;241;43m+\u001b[39;49m\n\u001b[0;32m    543\u001b[0m \u001b[43m                          \u001b[49m\u001b[38;5;124;43m'\u001b[39;49m\u001b[38;5;124;43m_open\u001b[39;49m\u001b[38;5;124;43m'\u001b[39;49m\u001b[43m,\u001b[49m\u001b[43m \u001b[49m\u001b[43mreq\u001b[49m\u001b[43m)\u001b[49m\n\u001b[0;32m    544\u001b[0m \u001b[38;5;28;01mif\u001b[39;00m result:\n",
      "File \u001b[1;32m~\\anaconda3\\envs\\dfl\\lib\\urllib\\request.py:502\u001b[0m, in \u001b[0;36mOpenerDirector._call_chain\u001b[1;34m(self, chain, kind, meth_name, *args)\u001b[0m\n\u001b[0;32m    501\u001b[0m func \u001b[38;5;241m=\u001b[39m \u001b[38;5;28mgetattr\u001b[39m(handler, meth_name)\n\u001b[1;32m--> 502\u001b[0m result \u001b[38;5;241m=\u001b[39m \u001b[43mfunc\u001b[49m\u001b[43m(\u001b[49m\u001b[38;5;241;43m*\u001b[39;49m\u001b[43margs\u001b[49m\u001b[43m)\u001b[49m\n\u001b[0;32m    503\u001b[0m \u001b[38;5;28;01mif\u001b[39;00m result \u001b[38;5;129;01mis\u001b[39;00m \u001b[38;5;129;01mnot\u001b[39;00m \u001b[38;5;28;01mNone\u001b[39;00m:\n",
      "File \u001b[1;32m~\\anaconda3\\envs\\dfl\\lib\\urllib\\request.py:1397\u001b[0m, in \u001b[0;36mHTTPSHandler.https_open\u001b[1;34m(self, req)\u001b[0m\n\u001b[0;32m   1396\u001b[0m \u001b[38;5;28;01mdef\u001b[39;00m \u001b[38;5;21mhttps_open\u001b[39m(\u001b[38;5;28mself\u001b[39m, req):\n\u001b[1;32m-> 1397\u001b[0m     \u001b[38;5;28;01mreturn\u001b[39;00m \u001b[38;5;28;43mself\u001b[39;49m\u001b[38;5;241;43m.\u001b[39;49m\u001b[43mdo_open\u001b[49m\u001b[43m(\u001b[49m\u001b[43mhttp\u001b[49m\u001b[38;5;241;43m.\u001b[39;49m\u001b[43mclient\u001b[49m\u001b[38;5;241;43m.\u001b[39;49m\u001b[43mHTTPSConnection\u001b[49m\u001b[43m,\u001b[49m\u001b[43m \u001b[49m\u001b[43mreq\u001b[49m\u001b[43m,\u001b[49m\n\u001b[0;32m   1398\u001b[0m \u001b[43m        \u001b[49m\u001b[43mcontext\u001b[49m\u001b[38;5;241;43m=\u001b[39;49m\u001b[38;5;28;43mself\u001b[39;49m\u001b[38;5;241;43m.\u001b[39;49m\u001b[43m_context\u001b[49m\u001b[43m,\u001b[49m\u001b[43m \u001b[49m\u001b[43mcheck_hostname\u001b[49m\u001b[38;5;241;43m=\u001b[39;49m\u001b[38;5;28;43mself\u001b[39;49m\u001b[38;5;241;43m.\u001b[39;49m\u001b[43m_check_hostname\u001b[49m\u001b[43m)\u001b[49m\n",
      "File \u001b[1;32m~\\anaconda3\\envs\\dfl\\lib\\urllib\\request.py:1358\u001b[0m, in \u001b[0;36mAbstractHTTPHandler.do_open\u001b[1;34m(self, http_class, req, **http_conn_args)\u001b[0m\n\u001b[0;32m   1357\u001b[0m         \u001b[38;5;28;01mraise\u001b[39;00m URLError(err)\n\u001b[1;32m-> 1358\u001b[0m     r \u001b[38;5;241m=\u001b[39m \u001b[43mh\u001b[49m\u001b[38;5;241;43m.\u001b[39;49m\u001b[43mgetresponse\u001b[49m\u001b[43m(\u001b[49m\u001b[43m)\u001b[49m\n\u001b[0;32m   1359\u001b[0m \u001b[38;5;28;01mexcept\u001b[39;00m:\n",
      "File \u001b[1;32m~\\anaconda3\\envs\\dfl\\lib\\http\\client.py:1348\u001b[0m, in \u001b[0;36mHTTPConnection.getresponse\u001b[1;34m(self)\u001b[0m\n\u001b[0;32m   1347\u001b[0m \u001b[38;5;28;01mtry\u001b[39;00m:\n\u001b[1;32m-> 1348\u001b[0m     \u001b[43mresponse\u001b[49m\u001b[38;5;241;43m.\u001b[39;49m\u001b[43mbegin\u001b[49m\u001b[43m(\u001b[49m\u001b[43m)\u001b[49m\n\u001b[0;32m   1349\u001b[0m \u001b[38;5;28;01mexcept\u001b[39;00m \u001b[38;5;167;01mConnectionError\u001b[39;00m:\n",
      "File \u001b[1;32m~\\anaconda3\\envs\\dfl\\lib\\http\\client.py:316\u001b[0m, in \u001b[0;36mHTTPResponse.begin\u001b[1;34m(self)\u001b[0m\n\u001b[0;32m    315\u001b[0m \u001b[38;5;28;01mwhile\u001b[39;00m \u001b[38;5;28;01mTrue\u001b[39;00m:\n\u001b[1;32m--> 316\u001b[0m     version, status, reason \u001b[38;5;241m=\u001b[39m \u001b[38;5;28;43mself\u001b[39;49m\u001b[38;5;241;43m.\u001b[39;49m\u001b[43m_read_status\u001b[49m\u001b[43m(\u001b[49m\u001b[43m)\u001b[49m\n\u001b[0;32m    317\u001b[0m     \u001b[38;5;28;01mif\u001b[39;00m status \u001b[38;5;241m!=\u001b[39m CONTINUE:\n",
      "File \u001b[1;32m~\\anaconda3\\envs\\dfl\\lib\\http\\client.py:277\u001b[0m, in \u001b[0;36mHTTPResponse._read_status\u001b[1;34m(self)\u001b[0m\n\u001b[0;32m    276\u001b[0m \u001b[38;5;28;01mdef\u001b[39;00m \u001b[38;5;21m_read_status\u001b[39m(\u001b[38;5;28mself\u001b[39m):\n\u001b[1;32m--> 277\u001b[0m     line \u001b[38;5;241m=\u001b[39m \u001b[38;5;28mstr\u001b[39m(\u001b[38;5;28;43mself\u001b[39;49m\u001b[38;5;241;43m.\u001b[39;49m\u001b[43mfp\u001b[49m\u001b[38;5;241;43m.\u001b[39;49m\u001b[43mreadline\u001b[49m\u001b[43m(\u001b[49m\u001b[43m_MAXLINE\u001b[49m\u001b[43m \u001b[49m\u001b[38;5;241;43m+\u001b[39;49m\u001b[43m \u001b[49m\u001b[38;5;241;43m1\u001b[39;49m\u001b[43m)\u001b[49m, \u001b[38;5;124m\"\u001b[39m\u001b[38;5;124miso-8859-1\u001b[39m\u001b[38;5;124m\"\u001b[39m)\n\u001b[0;32m    278\u001b[0m     \u001b[38;5;28;01mif\u001b[39;00m \u001b[38;5;28mlen\u001b[39m(line) \u001b[38;5;241m>\u001b[39m _MAXLINE:\n",
      "File \u001b[1;32m~\\anaconda3\\envs\\dfl\\lib\\socket.py:669\u001b[0m, in \u001b[0;36mSocketIO.readinto\u001b[1;34m(self, b)\u001b[0m\n\u001b[0;32m    668\u001b[0m \u001b[38;5;28;01mtry\u001b[39;00m:\n\u001b[1;32m--> 669\u001b[0m     \u001b[38;5;28;01mreturn\u001b[39;00m \u001b[38;5;28;43mself\u001b[39;49m\u001b[38;5;241;43m.\u001b[39;49m\u001b[43m_sock\u001b[49m\u001b[38;5;241;43m.\u001b[39;49m\u001b[43mrecv_into\u001b[49m\u001b[43m(\u001b[49m\u001b[43mb\u001b[49m\u001b[43m)\u001b[49m\n\u001b[0;32m    670\u001b[0m \u001b[38;5;28;01mexcept\u001b[39;00m timeout:\n",
      "File \u001b[1;32m~\\anaconda3\\envs\\dfl\\lib\\ssl.py:1241\u001b[0m, in \u001b[0;36mSSLSocket.recv_into\u001b[1;34m(self, buffer, nbytes, flags)\u001b[0m\n\u001b[0;32m   1238\u001b[0m         \u001b[38;5;28;01mraise\u001b[39;00m \u001b[38;5;167;01mValueError\u001b[39;00m(\n\u001b[0;32m   1239\u001b[0m           \u001b[38;5;124m\"\u001b[39m\u001b[38;5;124mnon-zero flags not allowed in calls to recv_into() on \u001b[39m\u001b[38;5;132;01m%s\u001b[39;00m\u001b[38;5;124m\"\u001b[39m \u001b[38;5;241m%\u001b[39m\n\u001b[0;32m   1240\u001b[0m           \u001b[38;5;28mself\u001b[39m\u001b[38;5;241m.\u001b[39m\u001b[38;5;18m__class__\u001b[39m)\n\u001b[1;32m-> 1241\u001b[0m     \u001b[38;5;28;01mreturn\u001b[39;00m \u001b[38;5;28;43mself\u001b[39;49m\u001b[38;5;241;43m.\u001b[39;49m\u001b[43mread\u001b[49m\u001b[43m(\u001b[49m\u001b[43mnbytes\u001b[49m\u001b[43m,\u001b[49m\u001b[43m \u001b[49m\u001b[43mbuffer\u001b[49m\u001b[43m)\u001b[49m\n\u001b[0;32m   1242\u001b[0m \u001b[38;5;28;01melse\u001b[39;00m:\n",
      "File \u001b[1;32m~\\anaconda3\\envs\\dfl\\lib\\ssl.py:1099\u001b[0m, in \u001b[0;36mSSLSocket.read\u001b[1;34m(self, len, buffer)\u001b[0m\n\u001b[0;32m   1098\u001b[0m \u001b[38;5;28;01mif\u001b[39;00m buffer \u001b[38;5;129;01mis\u001b[39;00m \u001b[38;5;129;01mnot\u001b[39;00m \u001b[38;5;28;01mNone\u001b[39;00m:\n\u001b[1;32m-> 1099\u001b[0m     \u001b[38;5;28;01mreturn\u001b[39;00m \u001b[38;5;28;43mself\u001b[39;49m\u001b[38;5;241;43m.\u001b[39;49m\u001b[43m_sslobj\u001b[49m\u001b[38;5;241;43m.\u001b[39;49m\u001b[43mread\u001b[49m\u001b[43m(\u001b[49m\u001b[38;5;28;43mlen\u001b[39;49m\u001b[43m,\u001b[49m\u001b[43m \u001b[49m\u001b[43mbuffer\u001b[49m\u001b[43m)\u001b[49m\n\u001b[0;32m   1100\u001b[0m \u001b[38;5;28;01melse\u001b[39;00m:\n",
      "\u001b[1;31mKeyboardInterrupt\u001b[0m: ",
      "\nDuring handling of the above exception, another exception occurred:\n",
      "\u001b[1;31mFileNotFoundError\u001b[0m                         Traceback (most recent call last)",
      "Input \u001b[1;32mIn [128]\u001b[0m, in \u001b[0;36m<cell line: 7>\u001b[1;34m()\u001b[0m\n\u001b[0;32m      4\u001b[0m get_ipython()\u001b[38;5;241m.\u001b[39msystem(\u001b[38;5;124m'\u001b[39m\u001b[38;5;124mecho $sn_track_base/challenge.zip\u001b[39m\u001b[38;5;124m'\u001b[39m)\n\u001b[0;32m      6\u001b[0m mySoccerNetDownloader\u001b[38;5;241m=\u001b[39mSoccerNetDownloader(LocalDirectory\u001b[38;5;241m=\u001b[39m\u001b[38;5;124m\"\u001b[39m\u001b[38;5;124m/soccerNet/tracking\u001b[39m\u001b[38;5;124m\"\u001b[39m)\n\u001b[1;32m----> 7\u001b[0m \u001b[43mmySoccerNetDownloader\u001b[49m\u001b[38;5;241;43m.\u001b[39;49m\u001b[43mdownloadDataTask\u001b[49m\u001b[43m(\u001b[49m\u001b[43mtask\u001b[49m\u001b[38;5;241;43m=\u001b[39;49m\u001b[38;5;124;43m\"\u001b[39;49m\u001b[38;5;124;43mtracking\u001b[39;49m\u001b[38;5;124;43m\"\u001b[39;49m\u001b[43m,\u001b[49m\u001b[43m \u001b[49m\u001b[43msplit\u001b[49m\u001b[38;5;241;43m=\u001b[39;49m\u001b[43m[\u001b[49m\u001b[38;5;124;43m\"\u001b[39;49m\u001b[38;5;124;43mtrain\u001b[39;49m\u001b[38;5;124;43m\"\u001b[39;49m\u001b[43m,\u001b[49m\u001b[43m \u001b[49m\u001b[38;5;124;43m\"\u001b[39;49m\u001b[38;5;124;43mtest\u001b[39;49m\u001b[38;5;124;43m\"\u001b[39;49m\u001b[43m,\u001b[49m\u001b[43m \u001b[49m\u001b[38;5;124;43m\"\u001b[39;49m\u001b[38;5;124;43mchallenge\u001b[39;49m\u001b[38;5;124;43m\"\u001b[39;49m\u001b[43m]\u001b[49m\u001b[43m)\u001b[49m\n\u001b[0;32m      8\u001b[0m \u001b[38;5;66;03m#window에서는 수작업\u001b[39;00m\n\u001b[0;32m      9\u001b[0m get_ipython()\u001b[38;5;241m.\u001b[39msystem(\u001b[38;5;124m'\u001b[39m\u001b[38;5;124munzip -q -d $sn_track_base $sn_track_base/train.zip\u001b[39m\u001b[38;5;124m'\u001b[39m)\n",
      "File \u001b[1;32m~\\anaconda3\\envs\\dfl\\lib\\site-packages\\SoccerNet\\Downloader.py:193\u001b[0m, in \u001b[0;36mSoccerNetDownloader.downloadDataTask\u001b[1;34m(self, task, split, verbose, password)\u001b[0m\n\u001b[0;32m    191\u001b[0m \u001b[38;5;28;01melif\u001b[39;00m task \u001b[38;5;241m==\u001b[39m \u001b[38;5;124m\"\u001b[39m\u001b[38;5;124mtracking\u001b[39m\u001b[38;5;124m\"\u001b[39m:\n\u001b[0;32m    192\u001b[0m     \u001b[38;5;28;01mif\u001b[39;00m \u001b[38;5;124m\"\u001b[39m\u001b[38;5;124mtrain\u001b[39m\u001b[38;5;124m\"\u001b[39m \u001b[38;5;129;01min\u001b[39;00m split:\n\u001b[1;32m--> 193\u001b[0m         res \u001b[38;5;241m=\u001b[39m \u001b[38;5;28;43mself\u001b[39;49m\u001b[38;5;241;43m.\u001b[39;49m\u001b[43mdownloadFile\u001b[49m\u001b[43m(\u001b[49m\u001b[43mpath_local\u001b[49m\u001b[38;5;241;43m=\u001b[39;49m\u001b[43mos\u001b[49m\u001b[38;5;241;43m.\u001b[39;49m\u001b[43mpath\u001b[49m\u001b[38;5;241;43m.\u001b[39;49m\u001b[43mjoin\u001b[49m\u001b[43m(\u001b[49m\u001b[38;5;28;43mself\u001b[39;49m\u001b[38;5;241;43m.\u001b[39;49m\u001b[43mLocalDirectory\u001b[49m\u001b[43m,\u001b[49m\u001b[43m \u001b[49m\u001b[43mtask\u001b[49m\u001b[43m,\u001b[49m\u001b[43m \u001b[49m\u001b[38;5;124;43m\"\u001b[39;49m\u001b[38;5;124;43mtrain.zip\u001b[39;49m\u001b[38;5;124;43m\"\u001b[39;49m\u001b[43m)\u001b[49m\u001b[43m,\u001b[49m\n\u001b[0;32m    194\u001b[0m \u001b[43m                                \u001b[49m\u001b[43mpath_owncloud\u001b[49m\u001b[38;5;241;43m=\u001b[39;49m\u001b[43mos\u001b[49m\u001b[38;5;241;43m.\u001b[39;49m\u001b[43mpath\u001b[49m\u001b[38;5;241;43m.\u001b[39;49m\u001b[43mjoin\u001b[49m\u001b[43m(\u001b[49m\u001b[38;5;28;43mself\u001b[39;49m\u001b[38;5;241;43m.\u001b[39;49m\u001b[43mOwnCloudServer\u001b[49m\u001b[43m,\u001b[49m\u001b[43m \u001b[49m\u001b[38;5;124;43m\"\u001b[39;49m\u001b[38;5;124;43mtrain.zip\u001b[39;49m\u001b[38;5;124;43m\"\u001b[39;49m\u001b[43m)\u001b[49m\u001b[38;5;241;43m.\u001b[39;49m\u001b[43mreplace\u001b[49m\u001b[43m(\u001b[49m\u001b[38;5;124;43m'\u001b[39;49m\u001b[38;5;124;43m \u001b[39;49m\u001b[38;5;124;43m'\u001b[39;49m\u001b[43m,\u001b[49m\u001b[43m \u001b[49m\u001b[38;5;124;43m'\u001b[39;49m\u001b[38;5;124;43m%\u001b[39;49m\u001b[38;5;124;43m20\u001b[39;49m\u001b[38;5;124;43m'\u001b[39;49m\u001b[43m)\u001b[49m\u001b[38;5;241;43m.\u001b[39;49m\u001b[43mreplace\u001b[49m\u001b[43m(\u001b[49m\u001b[38;5;124;43m'\u001b[39;49m\u001b[38;5;130;43;01m\\\\\u001b[39;49;00m\u001b[38;5;124;43m'\u001b[39;49m\u001b[43m,\u001b[49m\u001b[43m \u001b[49m\u001b[38;5;124;43m'\u001b[39;49m\u001b[38;5;124;43m/\u001b[39;49m\u001b[38;5;124;43m'\u001b[39;49m\u001b[43m)\u001b[49m\u001b[43m,\u001b[49m\n\u001b[0;32m    195\u001b[0m \u001b[43m                                \u001b[49m\u001b[43muser\u001b[49m\u001b[38;5;241;43m=\u001b[39;49m\u001b[38;5;124;43m\"\u001b[39;49m\u001b[38;5;124;43mo9tzUs2GcuEwcnr\u001b[39;49m\u001b[38;5;124;43m\"\u001b[39;49m\u001b[43m,\u001b[49m\u001b[43m  \u001b[49m\u001b[38;5;66;43;03m# https://exrcsdrive.kaust.edu.sa/exrcsdrive/index.php/s/o9tzUs2GcuEwcnr # user for tracking splits\u001b[39;49;00m\n\u001b[0;32m    196\u001b[0m \u001b[43m                                \u001b[49m\u001b[43mpassword\u001b[49m\u001b[38;5;241;43m=\u001b[39;49m\u001b[43mpassword\u001b[49m\u001b[43m,\u001b[49m\n\u001b[0;32m    197\u001b[0m \u001b[43m                                \u001b[49m\u001b[43mverbose\u001b[49m\u001b[38;5;241;43m=\u001b[39;49m\u001b[43mverbose\u001b[49m\u001b[43m)\u001b[49m\n\u001b[0;32m    198\u001b[0m         \u001b[38;5;28;01mif\u001b[39;00m res \u001b[38;5;241m==\u001b[39m \u001b[38;5;241m1\u001b[39m: \u001b[38;5;66;03m#HTTPError\u001b[39;00m\n\u001b[0;32m    199\u001b[0m             \u001b[38;5;28mprint\u001b[39m(\u001b[38;5;124m\"\u001b[39m\u001b[38;5;124mThis function should download train.zip for tracking - but train.zip was not uploaded on the server yet!\u001b[39m\u001b[38;5;124m\"\u001b[39m)\n",
      "File \u001b[1;32m~\\anaconda3\\envs\\dfl\\lib\\site-packages\\SoccerNet\\Downloader.py:74\u001b[0m, in \u001b[0;36mOwnCloudDownloader.downloadFile\u001b[1;34m(self, path_local, path_owncloud, user, password, verbose)\u001b[0m\n\u001b[0;32m     72\u001b[0m         \u001b[38;5;28;01mreturn\u001b[39;00m \u001b[38;5;241m1\u001b[39m\n\u001b[0;32m     73\u001b[0m \u001b[38;5;28;01mexcept\u001b[39;00m:\n\u001b[1;32m---> 74\u001b[0m     \u001b[43mos\u001b[49m\u001b[38;5;241;43m.\u001b[39;49m\u001b[43mremove\u001b[49m\u001b[43m(\u001b[49m\u001b[43mpath_local\u001b[49m\u001b[43m)\u001b[49m\n\u001b[0;32m     75\u001b[0m     \u001b[38;5;28;01mraise\u001b[39;00m\n\u001b[0;32m     76\u001b[0m     \u001b[38;5;28;01mreturn\u001b[39;00m \u001b[38;5;241m2\u001b[39m\n",
      "\u001b[1;31mFileNotFoundError\u001b[0m: [WinError 2] 지정된 파일을 찾을 수 없습니다: '/soccerNet/tracking\\\\tracking\\\\train.zip'"
     ]
    }
   ],
   "source": [
    "!mkdir -p $sn_track_base\n",
    "!mkdir -p $yolo_base\n",
    "!echo $sn_track_base/test.zip\n",
    "!echo $sn_track_base/challenge.zip\n",
    "\n",
    "mySoccerNetDownloader=SoccerNetDownloader(LocalDirectory=\"/soccerNet/tracking\")\n",
    "mySoccerNetDownloader.downloadDataTask(task=\"tracking\", split=[\"train\", \"test\", \"challenge\"])\n",
    "#window에서는 수작업\n",
    "!unzip -q -d $sn_track_base $sn_track_base/train.zip\n",
    "!git clone https://github.com/WongKinYiu/yolov7 \n",
    "!cd $yolo_base && wget https://github.com/WongKinYiu/yolov7/releases/download/v0.1/yolov7-w6_training.pt"
   ]
  },
  {
   "cell_type": "code",
   "execution_count": 5,
   "metadata": {
    "tags": []
   },
   "outputs": [
    {
     "name": "stdout",
     "output_type": "stream",
     "text": [
      "['D:/dfl-bundesliga-data-shootout/soccerNet/tracking/train/train\\\\SNMOT-060', 'D:/dfl-bundesliga-data-shootout/soccerNet/tracking/train/train\\\\SNMOT-061', 'D:/dfl-bundesliga-data-shootout/soccerNet/tracking/train/train\\\\SNMOT-062', 'D:/dfl-bundesliga-data-shootout/soccerNet/tracking/train/train\\\\SNMOT-063', 'D:/dfl-bundesliga-data-shootout/soccerNet/tracking/train/train\\\\SNMOT-064']\n"
     ]
    }
   ],
   "source": [
    "from glob import glob\n",
    "train_dirs = sorted(glob(f'{sn_track_base}/train/train/SNMOT*'))\n",
    "#tst_dirs = sorted(glob(f'{sn_track_base}/test/SNMOT*'))\n",
    "test_dirs = train_dirs[50:]\n",
    "train_dirs = train_dirs[:50]\n",
    "\n",
    "debug=True\n",
    "if debug:\n",
    "    train_dirs = train_dirs[:5]\n",
    "    test_dirs = test_dirs[:5]\n",
    "\n",
    "split_dirs = {\n",
    "    'train':train_dirs,\n",
    "    'valid':test_dirs\n",
    "}\n",
    "\n",
    "# ４ types of labels are used.\n",
    "labels = ['ball', 'player', 'referee', 'goalkeepers']\n",
    "label_dict = {'ball': 0, 'player': 1, 'referee': 2, 'goalkeeper': 3, 'goalkeepers': 3}\n",
    "print(train_dirs)"
   ]
  },
  {
   "cell_type": "code",
   "execution_count": 6,
   "metadata": {},
   "outputs": [
    {
     "name": "stdout",
     "output_type": "stream",
     "text": [
      "D:/dfl-bundesliga-data-shootout/yolov7/images/train\n",
      "D:/dfl-bundesliga-data-shootout/yolov7/images/valid\n",
      "D:/dfl-bundesliga-data-shootout/yolov7/labels/train\n",
      "D:/dfl-bundesliga-data-shootout/yolov7/labels/valid\n",
      "D:/dfl-bundesliga-data-shootout/yolov7/data.yaml\n"
     ]
    }
   ],
   "source": [
    "import os\n",
    "#(1) image file path\n",
    "yolo_train_img_dir = f'{yolo_base}/images/train'\n",
    "yolo_valid_img_dir = f'{yolo_base}/images/valid'\n",
    "\n",
    "#(2) label file path\n",
    "yolo_train_label_dir = f'{yolo_base}/labels/train'\n",
    "yolo_valid_label_dir = f'{yolo_base}/labels/valid'\n",
    "\n",
    "#(3) config file path\n",
    "yaml_file = f'{yolo_base}/data.yaml'\n",
    "#!rm -rf /home/tito/kaggle/dfl-bundesliga-data-shootout/work/yolov5\n",
    "os.makedirs(yolo_train_img_dir, exist_ok=True)\n",
    "os.makedirs(yolo_valid_img_dir, exist_ok=True)\n",
    "os.makedirs(yolo_train_label_dir, exist_ok=True)\n",
    "os.makedirs(yolo_valid_label_dir, exist_ok=True)\n",
    "print(yolo_train_img_dir)\n",
    "print(yolo_valid_img_dir)\n",
    "\n",
    "print(yolo_train_label_dir)\n",
    "print(yolo_valid_label_dir)\n",
    "\n",
    "print(yaml_file)"
   ]
  },
  {
   "cell_type": "code",
   "execution_count": 7,
   "metadata": {},
   "outputs": [
    {
     "name": "stdout",
     "output_type": "stream",
     "text": [
      "Requirement already satisfied: opencv-python in c:\\users\\kimju\\anaconda3\\envs\\dfl\\lib\\site-packages (4.6.0.66)\n",
      "Requirement already satisfied: numpy>=1.17.3 in c:\\users\\kimju\\anaconda3\\envs\\dfl\\lib\\site-packages (from opencv-python) (1.21.5)\n"
     ]
    }
   ],
   "source": [
    "!pip install opencv-python"
   ]
  },
  {
   "cell_type": "code",
   "execution_count": 7,
   "metadata": {},
   "outputs": [
    {
     "name": "stdout",
     "output_type": "stream",
     "text": [
      "train\n",
      "this_dir: D:/dfl-bundesliga-data-shootout/soccerNet/tracking/train/train/SNMOT-060\n",
      "this_dir: D:/dfl-bundesliga-data-shootout/soccerNet/tracking/train/train/SNMOT-061\n",
      "this_dir: D:/dfl-bundesliga-data-shootout/soccerNet/tracking/train/train/SNMOT-062\n",
      "this_dir: D:/dfl-bundesliga-data-shootout/soccerNet/tracking/train/train/SNMOT-063\n",
      "this_dir: D:/dfl-bundesliga-data-shootout/soccerNet/tracking/train/train/SNMOT-064\n",
      "valid\n",
      "this_dir: D:/dfl-bundesliga-data-shootout/soccerNet/tracking/train/train/SNMOT-164\n",
      "this_dir: D:/dfl-bundesliga-data-shootout/soccerNet/tracking/train/train/SNMOT-165\n",
      "this_dir: D:/dfl-bundesliga-data-shootout/soccerNet/tracking/train/train/SNMOT-166\n",
      "this_dir: D:/dfl-bundesliga-data-shootout/soccerNet/tracking/train/train/SNMOT-167\n",
      "this_dir: D:/dfl-bundesliga-data-shootout/soccerNet/tracking/train/train/SNMOT-168\n"
     ]
    }
   ],
   "source": [
    "import re\n",
    "import cv2\n",
    "import pandas as pd\n",
    "import numpy as np\n",
    "# convert from x,y,w,h to yolo format\n",
    "def get_yolo_format_bbox(img_w, img_h, box):\n",
    "    w = box[2]\n",
    "    h = box[3]\n",
    "    xc = box[0] + int(np.round(w/2))\n",
    "    yc = box[1] + int(np.round(h/2))\n",
    "    box = [xc/img_w, yc/img_h, w/img_w, h/img_h]\n",
    "    box = [f\"{i:.4g}\" for i in box]\n",
    "    return box\n",
    "    \n",
    "# get SoccerNet label info \n",
    "def get_info(info):\n",
    "    results = []\n",
    "    for line in open(info):\n",
    "        m = re.match('trackletID_(\\d+)= (\\S*).*', line.replace(';', ' '))\n",
    "        if m:\n",
    "            if m.group(2) not in label_dict:\n",
    "                #print('bad label:', m.group(2))\n",
    "                continue \n",
    "            results.append([m.group(1), m.group(2)])\n",
    "    return pd.DataFrame(results, columns=['id','lbl']).set_index('id').to_dict()['lbl']\n",
    "\n",
    "# make image simlink and label files\n",
    "for split in split_dirs:\n",
    "    print(split)\n",
    "    if split == 'train':\n",
    "        yolo_img_dir = yolo_train_img_dir\n",
    "        yolo_label_dir = yolo_train_label_dir\n",
    "    else:\n",
    "        yolo_img_dir = yolo_valid_img_dir\n",
    "        yolo_label_dir = yolo_valid_label_dir\n",
    "    for this_dir in split_dirs[split]:\n",
    "        this_dir = this_dir.replace('\\\\','/')\n",
    "        print('this_dir:',this_dir)\n",
    "        video = this_dir.split('/')[-1]\n",
    "        info = this_dir + '/gameinfo.ini'\n",
    "        det = this_dir + '/gt/gt.txt'\n",
    "        info_dict = get_info(info)\n",
    "        det_df = pd.read_csv(det, names=['frame','player','x','y','w','h','f1','f2','f3','f4'], usecols=['frame','player','x','y','w','h'])\n",
    "        det_df.head(5)\n",
    "        det_df['label'] = det_df.player.astype(str).map(info_dict)\n",
    "        det_df['label_id'] = det_df['label'].map(label_dict)\n",
    "        # check\n",
    "        ng_list = list(det_df[det_df.label_id.isnull()].label.unique())\n",
    "        if len(ng_list)>0:\n",
    "            #print('ng_list:',ng_list, det_df.dropna().shape, det_df.shape)\n",
    "            det_df = det_df.dropna()\n",
    "        for grp, grp_df in det_df.groupby('frame'):\n",
    "            frame = f'{grp:06}'\n",
    "            img_file = f'{this_dir}/img1/{frame}.jpg'\n",
    "            dst_file = f'{yolo_img_dir}/{video}_{frame}.jpg'\n",
    "            if not os.path.exists(dst_file):\n",
    "                os.symlink(img_file, dst_file)\n",
    "                #print(img_file)\n",
    "            img = cv2.imread(dst_file)\n",
    "            height, width, _ = img.shape \n",
    "            bboxes = []\n",
    "            for arr in grp_df[['x', 'y', 'w', 'h', 'label_id']].values:\n",
    "                box = get_yolo_format_bbox(width, height, arr[:4])\n",
    "                bboxes.append([arr[4]]+box)\n",
    "            file_name = f'{yolo_label_dir}/{video}_{frame}.txt'\n",
    "            with open(file_name, 'w') as f:\n",
    "                for i, bbox in enumerate(bboxes):\n",
    "                    bbox = [str(i) for i in bbox]\n",
    "                    str_bbox = ' '.join(bbox)\n",
    "                    f.write(str_bbox)\n",
    "                    f.write('\\n')"
   ]
  },
  {
   "cell_type": "code",
   "execution_count": 8,
   "metadata": {},
   "outputs": [],
   "source": [
    "import yaml\n",
    "# Dump config file\n",
    "data_yaml = dict(\n",
    "    train = yolo_train_img_dir,\n",
    "    val = yolo_valid_img_dir,\n",
    "    nc = 4,\n",
    "    names = labels\n",
    ")\n",
    "\n",
    "with open(yaml_file, 'w') as outfile:\n",
    "    yaml.dump(data_yaml, outfile, default_flow_style=True)"
   ]
  },
  {
   "cell_type": "code",
   "execution_count": 39,
   "metadata": {
    "collapsed": true,
    "jupyter": {
     "outputs_hidden": true
    },
    "tags": []
   },
   "outputs": [
    {
     "name": "stdout",
     "output_type": "stream",
     "text": [
      "Collecting tensorboard\n",
      "  Downloading tensorboard-2.10.0-py3-none-any.whl (5.9 MB)\n",
      "Collecting absl-py>=0.4\n",
      "  Downloading absl_py-1.2.0-py3-none-any.whl (123 kB)\n",
      "Requirement already satisfied: markdown>=2.6.8 in c:\\users\\kimju\\anaconda3\\envs\\dfl\\lib\\site-packages (from tensorboard) (3.3.4)\n",
      "Requirement already satisfied: grpcio>=1.24.3 in c:\\users\\kimju\\anaconda3\\envs\\dfl\\lib\\site-packages (from tensorboard) (1.42.0)\n",
      "Requirement already satisfied: werkzeug>=1.0.1 in c:\\users\\kimju\\anaconda3\\envs\\dfl\\lib\\site-packages (from tensorboard) (2.0.3)\n",
      "Requirement already satisfied: protobuf<3.20,>=3.9.2 in c:\\users\\kimju\\anaconda3\\envs\\dfl\\lib\\site-packages (from tensorboard) (3.19.1)\n",
      "Requirement already satisfied: google-auth<3,>=1.6.3 in c:\\users\\kimju\\anaconda3\\envs\\dfl\\lib\\site-packages (from tensorboard) (1.33.0)\n",
      "Collecting tensorboard-plugin-wit>=1.6.0\n",
      "  Using cached tensorboard_plugin_wit-1.8.1-py3-none-any.whl (781 kB)\n",
      "Requirement already satisfied: requests<3,>=2.21.0 in c:\\users\\kimju\\anaconda3\\envs\\dfl\\lib\\site-packages (from tensorboard) (2.27.1)\n",
      "Requirement already satisfied: wheel>=0.26 in c:\\users\\kimju\\anaconda3\\envs\\dfl\\lib\\site-packages (from tensorboard) (0.37.1)\n",
      "Requirement already satisfied: numpy>=1.12.0 in c:\\users\\kimju\\anaconda3\\envs\\dfl\\lib\\site-packages (from tensorboard) (1.21.5)\n",
      "Collecting tensorboard-data-server<0.7.0,>=0.6.0\n",
      "  Using cached tensorboard_data_server-0.6.1-py3-none-any.whl (2.4 kB)\n",
      "Collecting google-auth-oauthlib<0.5,>=0.4.1\n",
      "  Using cached google_auth_oauthlib-0.4.6-py2.py3-none-any.whl (18 kB)\n",
      "Requirement already satisfied: setuptools>=41.0.0 in c:\\users\\kimju\\appdata\\roaming\\python\\python38\\site-packages (from tensorboard) (65.3.0)\n",
      "Requirement already satisfied: rsa<5,>=3.1.4 in c:\\users\\kimju\\anaconda3\\envs\\dfl\\lib\\site-packages (from google-auth<3,>=1.6.3->tensorboard) (4.7.2)\n",
      "Requirement already satisfied: cachetools<5.0,>=2.0.0 in c:\\users\\kimju\\anaconda3\\envs\\dfl\\lib\\site-packages (from google-auth<3,>=1.6.3->tensorboard) (4.2.2)\n",
      "Requirement already satisfied: pyasn1-modules>=0.2.1 in c:\\users\\kimju\\anaconda3\\envs\\dfl\\lib\\site-packages (from google-auth<3,>=1.6.3->tensorboard) (0.2.8)\n",
      "Requirement already satisfied: six>=1.9.0 in c:\\users\\kimju\\appdata\\roaming\\python\\python38\\site-packages (from google-auth<3,>=1.6.3->tensorboard) (1.16.0)\n",
      "Collecting requests-oauthlib>=0.7.0\n",
      "  Using cached requests_oauthlib-1.3.1-py2.py3-none-any.whl (23 kB)\n",
      "Requirement already satisfied: pyasn1<0.5.0,>=0.4.6 in c:\\users\\kimju\\anaconda3\\envs\\dfl\\lib\\site-packages (from pyasn1-modules>=0.2.1->google-auth<3,>=1.6.3->tensorboard) (0.4.8)\n",
      "Requirement already satisfied: urllib3<1.27,>=1.21.1 in c:\\users\\kimju\\anaconda3\\envs\\dfl\\lib\\site-packages (from requests<3,>=2.21.0->tensorboard) (1.26.9)\n",
      "Requirement already satisfied: idna<4,>=2.5 in c:\\users\\kimju\\anaconda3\\envs\\dfl\\lib\\site-packages (from requests<3,>=2.21.0->tensorboard) (3.3)\n",
      "Requirement already satisfied: certifi>=2017.4.17 in c:\\users\\kimju\\anaconda3\\envs\\dfl\\lib\\site-packages (from requests<3,>=2.21.0->tensorboard) (2021.10.8)\n",
      "Requirement already satisfied: charset-normalizer~=2.0.0 in c:\\users\\kimju\\anaconda3\\envs\\dfl\\lib\\site-packages (from requests<3,>=2.21.0->tensorboard) (2.0.4)\n",
      "Collecting oauthlib>=3.0.0\n",
      "  Using cached oauthlib-3.2.0-py3-none-any.whl (151 kB)\n",
      "Installing collected packages: oauthlib, requests-oauthlib, tensorboard-plugin-wit, tensorboard-data-server, google-auth-oauthlib, absl-py, tensorboard\n",
      "Successfully installed absl-py-1.2.0 google-auth-oauthlib-0.4.6 oauthlib-3.2.0 requests-oauthlib-1.3.1 tensorboard-2.10.0 tensorboard-data-server-0.6.1 tensorboard-plugin-wit-1.8.1\n"
     ]
    }
   ],
   "source": [
    "!pip install tensorboard"
   ]
  },
  {
   "cell_type": "code",
   "execution_count": 10,
   "metadata": {
    "tags": []
   },
   "outputs": [
    {
     "name": "stdout",
     "output_type": "stream",
     "text": [
      "D:\\dfl-bundesliga-data-shootout\\yolov7\n",
      "^C\n"
     ]
    }
   ],
   "source": [
    "os.chdir('D:/dfl-bundesliga-data-shootout/yolov7')\n",
    "print(os.getcwd())\n",
    "!python train_aux.py \\\n",
    "    --workers 0 \\\n",
    "    --batch-size 8 \\\n",
    "    --data data.yaml \\\n",
    "    --img 1280 \\\n",
    "    --epochs 10 \\\n",
    "    --cfg cfg/training/yolov7-w6.yaml \\\n",
    "    --weights yolov7-w6_training.pt \\\n",
    "    --name yolov7-w6-custom \\\n",
    "    --hyp data/hyp.scratch.custom.yaml"
   ]
  },
  {
   "cell_type": "code",
   "execution_count": 21,
   "metadata": {},
   "outputs": [
    {
     "ename": "IndexError",
     "evalue": "list index out of range",
     "output_type": "error",
     "traceback": [
      "\u001b[1;31m---------------------------------------------------------------------------\u001b[0m",
      "\u001b[1;31mIndexError\u001b[0m                                Traceback (most recent call last)",
      "Input \u001b[1;32mIn [21]\u001b[0m, in \u001b[0;36m<cell line: 2>\u001b[1;34m()\u001b[0m\n\u001b[0;32m      1\u001b[0m \u001b[38;5;66;03m# predict!\u001b[39;00m\n\u001b[1;32m----> 2\u001b[0m check_images \u001b[38;5;241m=\u001b[39m \u001b[38;5;124mf\u001b[39m\u001b[38;5;124m'\u001b[39m\u001b[38;5;132;01m{\u001b[39;00mtest_dirs[\u001b[38;5;241m0\u001b[39m]\u001b[38;5;132;01m}\u001b[39;00m\u001b[38;5;124m/img1\u001b[39m\u001b[38;5;124m'\u001b[39m\n\u001b[0;32m      3\u001b[0m weight_file \u001b[38;5;241m=\u001b[39m \u001b[38;5;124m'\u001b[39m\u001b[38;5;124mruns/train/yolov7-w6-custom/weights/best.pt\u001b[39m\u001b[38;5;124m'\u001b[39m\n\u001b[0;32m      4\u001b[0m get_ipython()\u001b[38;5;241m.\u001b[39msystem(\u001b[38;5;124m'\u001b[39m\u001b[38;5;124mcd $yolo_base && python detect.py      --weights $weight_file      --source  $check_images      --img-size 1280      --project dfl\u001b[39m\u001b[38;5;124m'\u001b[39m)\n",
      "\u001b[1;31mIndexError\u001b[0m: list index out of range"
     ]
    }
   ],
   "source": [
    "# predict!\n",
    "check_images = f'{test_dirs[0]}/img1'\n",
    "weight_file = 'runs/train/yolov7-w6-custom/weights/best.pt'\n",
    "!cd $yolo_base && python detect.py \\\n",
    "    --weights $weight_file \\\n",
    "    --source  $check_images \\\n",
    "    --img-size 1280 \\\n",
    "    --project dfl"
   ]
  },
  {
   "cell_type": "code",
   "execution_count": null,
   "metadata": {},
   "outputs": [],
   "source": [
    "# Check some results. \n",
    "display(Image(f'{yolo_base}/dfl/exp/000200.jpg'))\n",
    "display(Image(f'{yolo_base}/dfl/exp/000400.jpg'))\n",
    "display(Image(f'{yolo_base}/dfl/exp/000600.jpg'))"
   ]
  },
  {
   "cell_type": "code",
   "execution_count": null,
   "metadata": {},
   "outputs": [],
   "source": []
  }
 ],
 "metadata": {
  "kernelspec": {
   "display_name": "Python 3 (ipykernel)",
   "language": "python",
   "name": "python3"
  },
  "language_info": {
   "codemirror_mode": {
    "name": "ipython",
    "version": 3
   },
   "file_extension": ".py",
   "mimetype": "text/x-python",
   "name": "python",
   "nbconvert_exporter": "python",
   "pygments_lexer": "ipython3",
   "version": "3.8.13"
  }
 },
 "nbformat": 4,
 "nbformat_minor": 4
}

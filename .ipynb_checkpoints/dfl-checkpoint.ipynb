{
 "cells": [
  {
   "cell_type": "code",
   "execution_count": 1,
   "metadata": {
    "execution": {
     "iopub.execute_input": "2022-08-30T04:41:45.676837Z",
     "iopub.status.busy": "2022-08-30T04:41:45.676336Z",
     "iopub.status.idle": "2022-08-30T04:42:00.433413Z",
     "shell.execute_reply": "2022-08-30T04:42:00.432130Z",
     "shell.execute_reply.started": "2022-08-30T04:41:45.676798Z"
    },
    "jupyter": {
     "outputs_hidden": true
    },
    "scrolled": true,
    "tags": []
   },
   "outputs": [
    {
     "name": "stdout",
     "output_type": "stream",
     "text": [
      "Collecting SoccerNet\n",
      "  Downloading SoccerNet-0.1.34-py2.py3-none-any.whl (68 kB)\n",
      "Collecting google-measurement-protocol\n",
      "  Downloading google_measurement_protocol-1.1.0-py2.py3-none-any.whl (5.9 kB)\n",
      "Requirement already satisfied: tqdm in c:\\users\\kimju\\anaconda3\\envs\\dfl\\lib\\site-packages (from SoccerNet) (4.64.0)\n",
      "Collecting scikit-video\n",
      "  Downloading scikit_video-1.1.11-py2.py3-none-any.whl (2.3 MB)\n",
      "Requirement already satisfied: matplotlib in c:\\users\\kimju\\anaconda3\\envs\\dfl\\lib\\site-packages (from SoccerNet) (3.5.1)\n",
      "Requirement already satisfied: requests<3.0a0,>=2.0 in c:\\users\\kimju\\anaconda3\\envs\\dfl\\lib\\site-packages (from google-measurement-protocol->SoccerNet) (2.27.1)\n",
      "Collecting prices>=1.0.0\n",
      "  Downloading prices-1.1.0-py2.py3-none-any.whl (8.8 kB)\n",
      "Requirement already satisfied: babel>=2.5.0 in c:\\users\\kimju\\anaconda3\\envs\\dfl\\lib\\site-packages (from prices>=1.0.0->google-measurement-protocol->SoccerNet) (2.9.1)\n",
      "Requirement already satisfied: pytz>=2015.7 in c:\\users\\kimju\\anaconda3\\envs\\dfl\\lib\\site-packages (from babel>=2.5.0->prices>=1.0.0->google-measurement-protocol->SoccerNet) (2021.3)\n",
      "Requirement already satisfied: certifi>=2017.4.17 in c:\\users\\kimju\\anaconda3\\envs\\dfl\\lib\\site-packages (from requests<3.0a0,>=2.0->google-measurement-protocol->SoccerNet) (2021.10.8)\n",
      "Requirement already satisfied: urllib3<1.27,>=1.21.1 in c:\\users\\kimju\\anaconda3\\envs\\dfl\\lib\\site-packages (from requests<3.0a0,>=2.0->google-measurement-protocol->SoccerNet) (1.26.9)\n",
      "Requirement already satisfied: idna<4,>=2.5 in c:\\users\\kimju\\anaconda3\\envs\\dfl\\lib\\site-packages (from requests<3.0a0,>=2.0->google-measurement-protocol->SoccerNet) (3.3)\n",
      "Requirement already satisfied: charset-normalizer~=2.0.0 in c:\\users\\kimju\\anaconda3\\envs\\dfl\\lib\\site-packages (from requests<3.0a0,>=2.0->google-measurement-protocol->SoccerNet) (2.0.4)\n",
      "Requirement already satisfied: numpy>=1.17 in c:\\users\\kimju\\anaconda3\\envs\\dfl\\lib\\site-packages (from matplotlib->SoccerNet) (1.21.5)\n",
      "Requirement already satisfied: cycler>=0.10 in c:\\users\\kimju\\anaconda3\\envs\\dfl\\lib\\site-packages (from matplotlib->SoccerNet) (0.11.0)\n",
      "Requirement already satisfied: fonttools>=4.22.0 in c:\\users\\kimju\\anaconda3\\envs\\dfl\\lib\\site-packages (from matplotlib->SoccerNet) (4.25.0)\n",
      "Requirement already satisfied: kiwisolver>=1.0.1 in c:\\users\\kimju\\anaconda3\\envs\\dfl\\lib\\site-packages (from matplotlib->SoccerNet) (1.3.2)\n",
      "Requirement already satisfied: packaging>=20.0 in c:\\users\\kimju\\appdata\\roaming\\python\\python38\\site-packages (from matplotlib->SoccerNet) (21.3)\n",
      "Requirement already satisfied: python-dateutil>=2.7 in c:\\users\\kimju\\appdata\\roaming\\python\\python38\\site-packages (from matplotlib->SoccerNet) (2.8.2)\n",
      "Requirement already satisfied: pillow>=6.2.0 in c:\\users\\kimju\\anaconda3\\envs\\dfl\\lib\\site-packages (from matplotlib->SoccerNet) (9.0.1)\n",
      "Requirement already satisfied: pyparsing>=2.2.1 in c:\\users\\kimju\\appdata\\roaming\\python\\python38\\site-packages (from matplotlib->SoccerNet) (3.0.9)\n",
      "Requirement already satisfied: six>=1.5 in c:\\users\\kimju\\appdata\\roaming\\python\\python38\\site-packages (from python-dateutil>=2.7->matplotlib->SoccerNet) (1.16.0)\n",
      "Requirement already satisfied: scipy in c:\\users\\kimju\\anaconda3\\envs\\dfl\\lib\\site-packages (from scikit-video->SoccerNet) (1.7.3)\n",
      "Requirement already satisfied: colorama in c:\\users\\kimju\\appdata\\roaming\\python\\python38\\site-packages (from tqdm->SoccerNet) (0.4.5)\n",
      "Installing collected packages: prices, scikit-video, google-measurement-protocol, SoccerNet\n",
      "Successfully installed SoccerNet-0.1.34 google-measurement-protocol-1.1.0 prices-1.1.0 scikit-video-1.1.11\n"
     ]
    }
   ],
   "source": [
    "!pip install SoccerNet"
   ]
  },
  {
   "cell_type": "code",
   "execution_count": 26,
   "metadata": {},
   "outputs": [
    {
     "name": "stdout",
     "output_type": "stream",
     "text": [
      "D:\\kaggle_dfl-bundesliga-data-shootout\\kaggle-dfl\n"
     ]
    }
   ],
   "source": [
    "import os\n",
    "print(os.getcwd())"
   ]
  },
  {
   "cell_type": "code",
   "execution_count": 27,
   "metadata": {},
   "outputs": [
    {
     "name": "stdout",
     "output_type": "stream",
     "text": [
      "D:\\kaggle_dfl-bundesliga-data-shootout\\kaggle-dfl\n"
     ]
    }
   ],
   "source": [
    "os.chdir('D:\\kaggle_dfl-bundesliga-data-shootout\\kaggle-dfl')\n",
    "print(os.getcwd())"
   ]
  },
  {
   "cell_type": "code",
   "execution_count": 34,
   "metadata": {
    "tags": []
   },
   "outputs": [],
   "source": [
    "import SoccerNet\n",
    "from SoccerNet.Downloader import SoccerNetDownloader"
   ]
  },
  {
   "cell_type": "code",
   "execution_count": 40,
   "metadata": {
    "tags": []
   },
   "outputs": [
    {
     "name": "stdout",
     "output_type": "stream",
     "text": [
      "D:/kaggle_dfl-bundesliga-data-shootout/yolov7\n",
      "D:/kaggle_dfl-bundesliga-data-shootout/soccerNet/tracking\n"
     ]
    }
   ],
   "source": [
    "dfl_base = 'D:\\kaggle_dfl-bundesliga-data-shootout'\n",
    "yolo_base = os.path.join(dfl_base,'yolov7')\n",
    "yolo_base = yolo_base.replace('\\\\','/')\n",
    "sn_track_base = os.path.join(dfl_base,'soccerNet/tracking')\n",
    "sn_track_base = sn_track_base.replace('\\\\','/')\n",
    "print(yolo_base)\n",
    "print(sn_track_base)"
   ]
  },
  {
   "cell_type": "code",
   "execution_count": 30,
   "metadata": {
    "jupyter": {
     "outputs_hidden": true
    },
    "scrolled": true,
    "tags": []
   },
   "outputs": [],
   "source": [
    "#!mkdir -p $sn_track_base\n",
    "#!mkdir -p $yolo_base\n",
    "#!touch $sn_track_base/test.zip\n",
    "#!touch $sn_track_base/challenge.zip\n",
    "\n",
    "#mySoccerNetDownloader=SoccerNetDownloader(LocalDirectory=\"/soccerNet/tracking\")\n",
    "#mySoccerNetDownloader.downloadDataTask(task=\"tracking\", split=[\"train\", \"test\", \"challenge\"])\n",
    "#window에서는 수작업\n",
    "#!unzip -q -d $sn_track_base $sn_track_base/train.zip\n",
    "#!git clone https://github.com/WongKinYiu/yolov7 \n",
    "#!cd $yolo_base && wget https://github.com/WongKinYiu/yolov7/releases/download/v0.1/yolov7-w6_training.pt"
   ]
  },
  {
   "cell_type": "code",
   "execution_count": 41,
   "metadata": {
    "tags": []
   },
   "outputs": [
    {
     "name": "stdout",
     "output_type": "stream",
     "text": [
      "['D:/kaggle_dfl-bundesliga-data-shootout/soccerNet/tracking/train\\\\SNMOT-060', 'D:/kaggle_dfl-bundesliga-data-shootout/soccerNet/tracking/train\\\\SNMOT-061', 'D:/kaggle_dfl-bundesliga-data-shootout/soccerNet/tracking/train\\\\SNMOT-062', 'D:/kaggle_dfl-bundesliga-data-shootout/soccerNet/tracking/train\\\\SNMOT-063', 'D:/kaggle_dfl-bundesliga-data-shootout/soccerNet/tracking/train\\\\SNMOT-064']\n"
     ]
    }
   ],
   "source": [
    "from glob import glob\n",
    "train_dirs = sorted(glob(f'{sn_track_base}/train/SNMOT*'))\n",
    "#tst_dirs = sorted(glob(f'{sn_track_base}/test/SNMOT*'))\n",
    "test_dirs = train_dirs[50:]\n",
    "train_dirs = train_dirs[:50]\n",
    "\n",
    "debug=True\n",
    "if debug:\n",
    "    train_dirs = train_dirs[:5]\n",
    "    test_dirs = test_dirs[:5]\n",
    "\n",
    "split_dirs = {\n",
    "    'train':train_dirs,\n",
    "    'valid':test_dirs\n",
    "}\n",
    "\n",
    "# ４ types of labels are used.\n",
    "labels = ['ball', 'player', 'referee', 'goalkeepers']\n",
    "label_dict = {'ball': 0, 'player': 1, 'referee': 2, 'goalkeeper': 3, 'goalkeepers': 3}\n",
    "print(train_dirs)"
   ]
  },
  {
   "cell_type": "code",
   "execution_count": 42,
   "metadata": {},
   "outputs": [
    {
     "name": "stdout",
     "output_type": "stream",
     "text": [
      "D:/kaggle_dfl-bundesliga-data-shootout/yolov7/images/train\n",
      "D:/kaggle_dfl-bundesliga-data-shootout/yolov7/images/valid\n",
      "D:/kaggle_dfl-bundesliga-data-shootout/yolov7/labels/train\n",
      "D:/kaggle_dfl-bundesliga-data-shootout/yolov7/labels/valid\n",
      "D:/kaggle_dfl-bundesliga-data-shootout/yolov7/data.yaml\n"
     ]
    }
   ],
   "source": [
    "import os\n",
    "#(1) image file path\n",
    "yolo_train_img_dir = f'{yolo_base}/images/train'\n",
    "yolo_valid_img_dir = f'{yolo_base}/images/valid'\n",
    "\n",
    "#(2) label file path\n",
    "yolo_train_label_dir = f'{yolo_base}/labels/train'\n",
    "yolo_valid_label_dir = f'{yolo_base}/labels/valid'\n",
    "\n",
    "#(3) config file path\n",
    "yaml_file = f'{yolo_base}/data.yaml'\n",
    "#!rm -rf /home/tito/kaggle/dfl-bundesliga-data-shootout/work/yolov5\n",
    "os.makedirs(yolo_train_img_dir, exist_ok=True)\n",
    "os.makedirs(yolo_valid_img_dir, exist_ok=True)\n",
    "os.makedirs(yolo_train_label_dir, exist_ok=True)\n",
    "os.makedirs(yolo_valid_label_dir, exist_ok=True)\n",
    "print(yolo_train_img_dir)\n",
    "print(yolo_valid_img_dir)\n",
    "\n",
    "print(yolo_train_label_dir)\n",
    "print(yolo_valid_label_dir)\n",
    "\n",
    "print(yaml_file)"
   ]
  },
  {
   "cell_type": "code",
   "execution_count": 7,
   "metadata": {},
   "outputs": [
    {
     "name": "stdout",
     "output_type": "stream",
     "text": [
      "Requirement already satisfied: opencv-python in c:\\users\\kimju\\anaconda3\\envs\\dfl\\lib\\site-packages (4.6.0.66)\n",
      "Requirement already satisfied: numpy>=1.17.3 in c:\\users\\kimju\\anaconda3\\envs\\dfl\\lib\\site-packages (from opencv-python) (1.21.5)\n"
     ]
    }
   ],
   "source": [
    "!pip install opencv-python"
   ]
  },
  {
   "cell_type": "code",
   "execution_count": 43,
   "metadata": {},
   "outputs": [
    {
     "name": "stdout",
     "output_type": "stream",
     "text": [
      "train\n",
      "this_dir: D:/kaggle_dfl-bundesliga-data-shootout/soccerNet/tracking/train/SNMOT-060\n",
      "this_dir: D:/kaggle_dfl-bundesliga-data-shootout/soccerNet/tracking/train/SNMOT-061\n",
      "this_dir: D:/kaggle_dfl-bundesliga-data-shootout/soccerNet/tracking/train/SNMOT-062\n",
      "this_dir: D:/kaggle_dfl-bundesliga-data-shootout/soccerNet/tracking/train/SNMOT-063\n",
      "this_dir: D:/kaggle_dfl-bundesliga-data-shootout/soccerNet/tracking/train/SNMOT-064\n",
      "valid\n",
      "this_dir: D:/kaggle_dfl-bundesliga-data-shootout/soccerNet/tracking/train/SNMOT-164\n",
      "this_dir: D:/kaggle_dfl-bundesliga-data-shootout/soccerNet/tracking/train/SNMOT-165\n",
      "this_dir: D:/kaggle_dfl-bundesliga-data-shootout/soccerNet/tracking/train/SNMOT-166\n",
      "this_dir: D:/kaggle_dfl-bundesliga-data-shootout/soccerNet/tracking/train/SNMOT-167\n",
      "this_dir: D:/kaggle_dfl-bundesliga-data-shootout/soccerNet/tracking/train/SNMOT-168\n"
     ]
    }
   ],
   "source": [
    "import re\n",
    "import cv2\n",
    "import pandas as pd\n",
    "import numpy as np\n",
    "# convert from x,y,w,h to yolo format\n",
    "def get_yolo_format_bbox(img_w, img_h, box):\n",
    "    w = box[2]\n",
    "    h = box[3]\n",
    "    xc = box[0] + int(np.round(w/2))\n",
    "    yc = box[1] + int(np.round(h/2))\n",
    "    box = [xc/img_w, yc/img_h, w/img_w, h/img_h]\n",
    "    box = [f\"{i:.4g}\" for i in box]\n",
    "    return box\n",
    "    \n",
    "# get SoccerNet label info \n",
    "def get_info(info):\n",
    "    results = []\n",
    "    for line in open(info):\n",
    "        m = re.match('trackletID_(\\d+)= (\\S*).*', line.replace(';', ' '))\n",
    "        if m:\n",
    "            if m.group(2) not in label_dict:\n",
    "                #print('bad label:', m.group(2))\n",
    "                continue \n",
    "            results.append([m.group(1), m.group(2)])\n",
    "    return pd.DataFrame(results, columns=['id','lbl']).set_index('id').to_dict()['lbl']\n",
    "\n",
    "# make image simlink and label files\n",
    "for split in split_dirs:\n",
    "    print(split)\n",
    "    if split == 'train':\n",
    "        yolo_img_dir = yolo_train_img_dir\n",
    "        yolo_label_dir = yolo_train_label_dir\n",
    "    else:\n",
    "        yolo_img_dir = yolo_valid_img_dir\n",
    "        yolo_label_dir = yolo_valid_label_dir\n",
    "    for this_dir in split_dirs[split]:\n",
    "        this_dir = this_dir.replace('\\\\','/')\n",
    "        print('this_dir:',this_dir)\n",
    "        video = this_dir.split('/')[-1]\n",
    "        info = this_dir + '/gameinfo.ini'\n",
    "        det = this_dir + '/gt/gt.txt'\n",
    "        info_dict = get_info(info)\n",
    "        det_df = pd.read_csv(det, names=['frame','player','x','y','w','h','f1','f2','f3','f4'], usecols=['frame','player','x','y','w','h'])\n",
    "        det_df.head(5)\n",
    "        det_df['label'] = det_df.player.astype(str).map(info_dict)\n",
    "        det_df['label_id'] = det_df['label'].map(label_dict)\n",
    "        # check\n",
    "        ng_list = list(det_df[det_df.label_id.isnull()].label.unique())\n",
    "        if len(ng_list)>0:\n",
    "            #print('ng_list:',ng_list, det_df.dropna().shape, det_df.shape)\n",
    "            det_df = det_df.dropna()\n",
    "        for grp, grp_df in det_df.groupby('frame'):\n",
    "            frame = f'{grp:06}'\n",
    "            img_file = f'{this_dir}/img1/{frame}.jpg'\n",
    "            dst_file = f'{yolo_img_dir}/{video}_{frame}.jpg'\n",
    "            if not os.path.exists(dst_file):\n",
    "                os.symlink(img_file, dst_file)\n",
    "                #print(img_file)\n",
    "            img = cv2.imread(dst_file)\n",
    "            height, width, _ = img.shape \n",
    "            bboxes = []\n",
    "            for arr in grp_df[['x', 'y', 'w', 'h', 'label_id']].values:\n",
    "                box = get_yolo_format_bbox(width, height, arr[:4])\n",
    "                bboxes.append([arr[4]]+box)\n",
    "            file_name = f'{yolo_label_dir}/{video}_{frame}.txt'\n",
    "            with open(file_name, 'w') as f:\n",
    "                for i, bbox in enumerate(bboxes):\n",
    "                    bbox = [str(i) for i in bbox]\n",
    "                    str_bbox = ' '.join(bbox)\n",
    "                    f.write(str_bbox)\n",
    "                    f.write('\\n')"
   ]
  },
  {
   "cell_type": "code",
   "execution_count": 44,
   "metadata": {},
   "outputs": [],
   "source": [
    "import yaml\n",
    "# Dump config file\n",
    "data_yaml = dict(\n",
    "    train = yolo_train_img_dir,\n",
    "    val = yolo_valid_img_dir,\n",
    "    nc = 4,\n",
    "    names = labels\n",
    ")\n",
    "\n",
    "with open(yaml_file, 'w') as outfile:\n",
    "    yaml.dump(data_yaml, outfile, default_flow_style=True)"
   ]
  },
  {
   "cell_type": "code",
   "execution_count": 39,
   "metadata": {
    "collapsed": true,
    "jupyter": {
     "outputs_hidden": true
    },
    "tags": []
   },
   "outputs": [
    {
     "name": "stdout",
     "output_type": "stream",
     "text": [
      "Collecting tensorboard\n",
      "  Downloading tensorboard-2.10.0-py3-none-any.whl (5.9 MB)\n",
      "Collecting absl-py>=0.4\n",
      "  Downloading absl_py-1.2.0-py3-none-any.whl (123 kB)\n",
      "Requirement already satisfied: markdown>=2.6.8 in c:\\users\\kimju\\anaconda3\\envs\\dfl\\lib\\site-packages (from tensorboard) (3.3.4)\n",
      "Requirement already satisfied: grpcio>=1.24.3 in c:\\users\\kimju\\anaconda3\\envs\\dfl\\lib\\site-packages (from tensorboard) (1.42.0)\n",
      "Requirement already satisfied: werkzeug>=1.0.1 in c:\\users\\kimju\\anaconda3\\envs\\dfl\\lib\\site-packages (from tensorboard) (2.0.3)\n",
      "Requirement already satisfied: protobuf<3.20,>=3.9.2 in c:\\users\\kimju\\anaconda3\\envs\\dfl\\lib\\site-packages (from tensorboard) (3.19.1)\n",
      "Requirement already satisfied: google-auth<3,>=1.6.3 in c:\\users\\kimju\\anaconda3\\envs\\dfl\\lib\\site-packages (from tensorboard) (1.33.0)\n",
      "Collecting tensorboard-plugin-wit>=1.6.0\n",
      "  Using cached tensorboard_plugin_wit-1.8.1-py3-none-any.whl (781 kB)\n",
      "Requirement already satisfied: requests<3,>=2.21.0 in c:\\users\\kimju\\anaconda3\\envs\\dfl\\lib\\site-packages (from tensorboard) (2.27.1)\n",
      "Requirement already satisfied: wheel>=0.26 in c:\\users\\kimju\\anaconda3\\envs\\dfl\\lib\\site-packages (from tensorboard) (0.37.1)\n",
      "Requirement already satisfied: numpy>=1.12.0 in c:\\users\\kimju\\anaconda3\\envs\\dfl\\lib\\site-packages (from tensorboard) (1.21.5)\n",
      "Collecting tensorboard-data-server<0.7.0,>=0.6.0\n",
      "  Using cached tensorboard_data_server-0.6.1-py3-none-any.whl (2.4 kB)\n",
      "Collecting google-auth-oauthlib<0.5,>=0.4.1\n",
      "  Using cached google_auth_oauthlib-0.4.6-py2.py3-none-any.whl (18 kB)\n",
      "Requirement already satisfied: setuptools>=41.0.0 in c:\\users\\kimju\\appdata\\roaming\\python\\python38\\site-packages (from tensorboard) (65.3.0)\n",
      "Requirement already satisfied: rsa<5,>=3.1.4 in c:\\users\\kimju\\anaconda3\\envs\\dfl\\lib\\site-packages (from google-auth<3,>=1.6.3->tensorboard) (4.7.2)\n",
      "Requirement already satisfied: cachetools<5.0,>=2.0.0 in c:\\users\\kimju\\anaconda3\\envs\\dfl\\lib\\site-packages (from google-auth<3,>=1.6.3->tensorboard) (4.2.2)\n",
      "Requirement already satisfied: pyasn1-modules>=0.2.1 in c:\\users\\kimju\\anaconda3\\envs\\dfl\\lib\\site-packages (from google-auth<3,>=1.6.3->tensorboard) (0.2.8)\n",
      "Requirement already satisfied: six>=1.9.0 in c:\\users\\kimju\\appdata\\roaming\\python\\python38\\site-packages (from google-auth<3,>=1.6.3->tensorboard) (1.16.0)\n",
      "Collecting requests-oauthlib>=0.7.0\n",
      "  Using cached requests_oauthlib-1.3.1-py2.py3-none-any.whl (23 kB)\n",
      "Requirement already satisfied: pyasn1<0.5.0,>=0.4.6 in c:\\users\\kimju\\anaconda3\\envs\\dfl\\lib\\site-packages (from pyasn1-modules>=0.2.1->google-auth<3,>=1.6.3->tensorboard) (0.4.8)\n",
      "Requirement already satisfied: urllib3<1.27,>=1.21.1 in c:\\users\\kimju\\anaconda3\\envs\\dfl\\lib\\site-packages (from requests<3,>=2.21.0->tensorboard) (1.26.9)\n",
      "Requirement already satisfied: idna<4,>=2.5 in c:\\users\\kimju\\anaconda3\\envs\\dfl\\lib\\site-packages (from requests<3,>=2.21.0->tensorboard) (3.3)\n",
      "Requirement already satisfied: certifi>=2017.4.17 in c:\\users\\kimju\\anaconda3\\envs\\dfl\\lib\\site-packages (from requests<3,>=2.21.0->tensorboard) (2021.10.8)\n",
      "Requirement already satisfied: charset-normalizer~=2.0.0 in c:\\users\\kimju\\anaconda3\\envs\\dfl\\lib\\site-packages (from requests<3,>=2.21.0->tensorboard) (2.0.4)\n",
      "Collecting oauthlib>=3.0.0\n",
      "  Using cached oauthlib-3.2.0-py3-none-any.whl (151 kB)\n",
      "Installing collected packages: oauthlib, requests-oauthlib, tensorboard-plugin-wit, tensorboard-data-server, google-auth-oauthlib, absl-py, tensorboard\n",
      "Successfully installed absl-py-1.2.0 google-auth-oauthlib-0.4.6 oauthlib-3.2.0 requests-oauthlib-1.3.1 tensorboard-2.10.0 tensorboard-data-server-0.6.1 tensorboard-plugin-wit-1.8.1\n"
     ]
    }
   ],
   "source": [
    "!pip install tensorboard"
   ]
  },
  {
   "cell_type": "code",
   "execution_count": 10,
   "metadata": {
    "tags": []
   },
   "outputs": [
    {
     "name": "stdout",
     "output_type": "stream",
     "text": [
      "D:\\dfl-bundesliga-data-shootout\\yolov7\n",
      "^C\n"
     ]
    }
   ],
   "source": [
    "#Ubuntu에서 학습하기\n",
    "os.chdir('D:/dfl-bundesliga-data-shootout/yolov7')\n",
    "print(os.getcwd())\n",
    "!python train_aux.py \\\n",
    "    --workers 0 \\\n",
    "    --batch-size 8 \\\n",
    "    --data data.yaml \\\n",
    "    --img 1280 \\\n",
    "    --epochs 10 \\\n",
    "    --cfg cfg/training/yolov7-w6.yaml \\\n",
    "    --weights yolov7-w6_training.pt \\\n",
    "    --name yolov7-w6-custom \\\n",
    "    --hyp data/hyp.scratch.custom.yaml"
   ]
  },
  {
   "cell_type": "code",
   "execution_count": 45,
   "metadata": {},
   "outputs": [
    {
     "name": "stdout",
     "output_type": "stream",
     "text": [
      "Namespace(agnostic_nms=False, augment=False, classes=None, conf_thres=0.25, device='', exist_ok=False, img_size=1280, iou_thres=0.45, name='exp', no_trace=False, nosave=False, project='dfl', save_conf=False, save_txt=False, source='D:/kaggle_dfl-bundesliga-data-shootout/soccerNet/tracking/train\\\\SNMOT-164/img1', update=False, view_img=False, weights=['runs/train/yolov7-w6-custom/best.pt'])\n"
     ]
    },
    {
     "name": "stderr",
     "output_type": "stream",
     "text": [
      "YOLOR  v0.1-107-g44d8ab4 torch 1.12.1 CUDA:0 (NVIDIA GeForce RTX 3090, 24575.5MB)\n",
      "\n",
      "Traceback (most recent call last):\n",
      "  File \"detect.py\", line 195, in <module>\n",
      "    detect()\n",
      "  File \"detect.py\", line 34, in detect\n",
      "    model = attempt_load(weights, map_location=device)  # load FP32 model\n",
      "  File \"D:\\kaggle_dfl-bundesliga-data-shootout\\yolov7\\models\\experimental.py\", line 242, in attempt_load\n",
      "    ckpt = torch.load(w, map_location=map_location)  # load\n",
      "  File \"C:\\Users\\kimju\\anaconda3\\envs\\dfl\\lib\\site-packages\\torch\\serialization.py\", line 699, in load\n",
      "    with _open_file_like(f, 'rb') as opened_file:\n",
      "  File \"C:\\Users\\kimju\\anaconda3\\envs\\dfl\\lib\\site-packages\\torch\\serialization.py\", line 230, in _open_file_like\n",
      "    return _open_file(name_or_buffer, mode)\n",
      "  File \"C:\\Users\\kimju\\anaconda3\\envs\\dfl\\lib\\site-packages\\torch\\serialization.py\", line 211, in __init__\n",
      "    super(_open_file, self).__init__(open(name, mode))\n",
      "FileNotFoundError: [Errno 2] No such file or directory: 'runs/train/yolov7-w6-custom/best.pt'\n"
     ]
    }
   ],
   "source": [
    "# predict!\n",
    "check_images = f'{test_dirs[0]}/img1'\n",
    "weight_file = 'runs/train/yolov7-w6-custom/weights/best.pt'\n",
    "weight_file = 'runs/train/yolov7-w6-custom/best.pt'\n",
    "!cd $yolo_base && python detect.py \\\n",
    "    --weights $weight_file \\\n",
    "    --source  $check_images \\\n",
    "    --img-size 1280 \\\n",
    "    --project dfl"
   ]
  },
  {
   "cell_type": "code",
   "execution_count": null,
   "metadata": {},
   "outputs": [],
   "source": [
    "# Check some results. \n",
    "display(Image(f'{yolo_base}/dfl/exp/000200.jpg'))\n",
    "display(Image(f'{yolo_base}/dfl/exp/000400.jpg'))\n",
    "display(Image(f'{yolo_base}/dfl/exp/000600.jpg'))"
   ]
  },
  {
   "cell_type": "code",
   "execution_count": null,
   "metadata": {},
   "outputs": [],
   "source": []
  }
 ],
 "metadata": {
  "kernelspec": {
   "display_name": "Python 3 (ipykernel)",
   "language": "python",
   "name": "python3"
  },
  "language_info": {
   "codemirror_mode": {
    "name": "ipython",
    "version": 3
   },
   "file_extension": ".py",
   "mimetype": "text/x-python",
   "name": "python",
   "nbconvert_exporter": "python",
   "pygments_lexer": "ipython3",
   "version": "3.8.13"
  }
 },
 "nbformat": 4,
 "nbformat_minor": 4
}
